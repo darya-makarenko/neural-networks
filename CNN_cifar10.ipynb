{
 "cells": [
  {
   "cell_type": "code",
   "execution_count": 2,
   "metadata": {
    "colab": {
     "base_uri": "https://localhost:8080/",
     "height": 34
    },
    "colab_type": "code",
    "executionInfo": {
     "elapsed": 2082,
     "status": "ok",
     "timestamp": 1541609520888,
     "user": {
      "displayName": "евгений степанцов",
      "photoUrl": "",
      "userId": "14261473577949153296"
     },
     "user_tz": -180
    },
    "id": "zaXxaMwtEo8y",
    "outputId": "28e47ac5-57df-4980-9c1c-6ac99f7eb789"
   },
   "outputs": [
    {
     "name": "stderr",
     "output_type": "stream",
     "text": [
      "Using TensorFlow backend.\n"
     ]
    }
   ],
   "source": [
    "import numpy as np\n",
    "import pandas as pd\n",
    "from keras.datasets import cifar10"
   ]
  },
  {
   "cell_type": "code",
   "execution_count": 16,
   "metadata": {
    "colab": {
     "base_uri": "https://localhost:8080/",
     "height": 124
    },
    "colab_type": "code",
    "executionInfo": {
     "elapsed": 37789,
     "status": "ok",
     "timestamp": 1541610818975,
     "user": {
      "displayName": "евгений степанцов",
      "photoUrl": "",
      "userId": "14261473577949153296"
     },
     "user_tz": -180
    },
    "id": "C_umQYt5Kaq4",
    "outputId": "317eb6d7-8175-4596-d0c5-b2e5899f6c53"
   },
   "outputs": [
    {
     "name": "stdout",
     "output_type": "stream",
     "text": [
      "Go to this URL in a browser: https://accounts.google.com/o/oauth2/auth?client_id=947318989803-6bn6qk8qdgf4n4g3pfee6491hc0brc4i.apps.googleusercontent.com&redirect_uri=urn%3Aietf%3Awg%3Aoauth%3A2.0%3Aoob&scope=email%20https%3A%2F%2Fwww.googleapis.com%2Fauth%2Fdocs.test%20https%3A%2F%2Fwww.googleapis.com%2Fauth%2Fdrive%20https%3A%2F%2Fwww.googleapis.com%2Fauth%2Fdrive.photos.readonly%20https%3A%2F%2Fwww.googleapis.com%2Fauth%2Fpeopleapi.readonly&response_type=code\n",
      "\n",
      "Enter your authorization code:\n",
      "··········\n",
      "Mounted at /content/gdrive\n"
     ]
    }
   ],
   "source": [
    "from google.colab import drive\n",
    "drive.mount('/content/gdrive')"
   ]
  },
  {
   "cell_type": "code",
   "execution_count": 0,
   "metadata": {
    "colab": {},
    "colab_type": "code",
    "id": "lHeivBQAEo90"
   },
   "outputs": [],
   "source": [
    "from keras.models import Sequential\n",
    "from keras.layers import Dense, Dropout, Flatten\n",
    "from keras.layers.convolutional import Conv2D\n",
    "from keras.optimizers import Adam\n",
    "from keras.layers.pooling import MaxPooling2D\n",
    "from keras.utils import to_categorical\n",
    "from keras.callbacks import EarlyStopping"
   ]
  },
  {
   "cell_type": "code",
   "execution_count": 0,
   "metadata": {
    "colab": {},
    "colab_type": "code",
    "id": "gLsyc1B-Eo-d"
   },
   "outputs": [],
   "source": [
    "np.random.seed(1000)"
   ]
  },
  {
   "cell_type": "code",
   "execution_count": 5,
   "metadata": {
    "colab": {
     "base_uri": "https://localhost:8080/",
     "height": 52
    },
    "colab_type": "code",
    "executionInfo": {
     "elapsed": 68189,
     "status": "ok",
     "timestamp": 1541609593255,
     "user": {
      "displayName": "евгений степанцов",
      "photoUrl": "",
      "userId": "14261473577949153296"
     },
     "user_tz": -180
    },
    "id": "FJn56v-WEo_J",
    "outputId": "01420bc5-4234-4bf4-d196-c5b9accd38ad"
   },
   "outputs": [
    {
     "name": "stdout",
     "output_type": "stream",
     "text": [
      "Downloading data from https://www.cs.toronto.edu/~kriz/cifar-10-python.tar.gz\n",
      "170500096/170498071 [==============================] - 63s 0us/step\n"
     ]
    }
   ],
   "source": [
    "(X_train, Y_train), (X_test, Y_test) = cifar10.load_data()"
   ]
  },
  {
   "cell_type": "code",
   "execution_count": 0,
   "metadata": {
    "colab": {},
    "colab_type": "code",
    "id": "Q6EKZFZHEo_w"
   },
   "outputs": [],
   "source": [
    "X_train.tofile(\"X_train.csv\")\n",
    "Y_train.tofile(\"Y_train.csv\")\n",
    "X_test.tofile(\"X_test.csv\")\n",
    "Y_test.tofile(\"Y_test.csv\")"
   ]
  },
  {
   "cell_type": "code",
   "execution_count": 0,
   "metadata": {
    "colab": {},
    "colab_type": "code",
    "id": "lXXhsBvPEpAy"
   },
   "outputs": [],
   "source": [
    "model = Sequential()"
   ]
  },
  {
   "cell_type": "code",
   "execution_count": 0,
   "metadata": {
    "colab": {},
    "colab_type": "code",
    "id": "bYBNuYXhEpBm"
   },
   "outputs": [],
   "source": [
    "model.add(Conv2D(32, kernel_size=(3,3), activation='relu', input_shape=(32,32,3)))\n",
    "model.add(Conv2D(64, kernel_size=(3,3), activation='relu'))\n",
    "model.add(MaxPooling2D(pool_size=(2,2)))\n",
    "model.add(Dropout(0.25))"
   ]
  },
  {
   "cell_type": "code",
   "execution_count": 0,
   "metadata": {
    "colab": {},
    "colab_type": "code",
    "id": "GOBVbnRhEpCE"
   },
   "outputs": [],
   "source": [
    "model.add(Conv2D(128, kernel_size=(3,3), activation='relu'))\n",
    "model.add(MaxPooling2D(pool_size=(2,2)))\n",
    "model.add(Conv2D(128, kernel_size=(3,3), activation='relu'))\n",
    "model.add(MaxPooling2D(pool_size=(2,2)))\n",
    "model.add(Dropout(0.25))"
   ]
  },
  {
   "cell_type": "code",
   "execution_count": 0,
   "metadata": {
    "colab": {},
    "colab_type": "code",
    "id": "GddnD6NCEpC5"
   },
   "outputs": [],
   "source": [
    "model.add(Flatten())\n",
    "model.add(Dense(1024, activation='relu'))\n",
    "model.add(Dropout(0.5))\n",
    "model.add(Dense(10, activation='softmax'))"
   ]
  },
  {
   "cell_type": "code",
   "execution_count": 0,
   "metadata": {
    "colab": {},
    "colab_type": "code",
    "id": "zV8OyHuHEpDj"
   },
   "outputs": [],
   "source": [
    "model.compile(loss='categorical_crossentropy',\n",
    "                  optimizer=Adam(lr=0.0001, decay=1e-6),\n",
    "                  metrics=['accuracy'])"
   ]
  },
  {
   "cell_type": "code",
   "execution_count": 12,
   "metadata": {
    "colab": {
     "base_uri": "https://localhost:8080/",
     "height": 399
    },
    "colab_type": "code",
    "executionInfo": {
     "elapsed": 138502,
     "status": "ok",
     "timestamp": 1541609755522,
     "user": {
      "displayName": "евгений степанцов",
      "photoUrl": "",
      "userId": "14261473577949153296"
     },
     "user_tz": -180
    },
    "id": "hc2jNcOAEpEC",
    "outputId": "74ae2eba-da1b-4819-8a40-6bfc365629f6"
   },
   "outputs": [
    {
     "name": "stdout",
     "output_type": "stream",
     "text": [
      "Train on 50000 samples, validate on 10000 samples\n",
      "Epoch 1/10\n",
      "50000/50000 [==============================] - 18s 351us/step - loss: 2.0114 - acc: 0.2482 - val_loss: 1.7309 - val_acc: 0.3757\n",
      "Epoch 2/10\n",
      "50000/50000 [==============================] - 13s 262us/step - loss: 1.6758 - acc: 0.3796 - val_loss: 1.5458 - val_acc: 0.4320\n",
      "Epoch 3/10\n",
      "50000/50000 [==============================] - 13s 262us/step - loss: 1.5305 - acc: 0.4379 - val_loss: 1.4209 - val_acc: 0.4838\n",
      "Epoch 4/10\n",
      "50000/50000 [==============================] - 13s 262us/step - loss: 1.4359 - acc: 0.4748 - val_loss: 1.3314 - val_acc: 0.5225\n",
      "Epoch 5/10\n",
      "50000/50000 [==============================] - 13s 261us/step - loss: 1.3579 - acc: 0.5098 - val_loss: 1.2667 - val_acc: 0.5411\n",
      "Epoch 6/10\n",
      "50000/50000 [==============================] - 13s 261us/step - loss: 1.2942 - acc: 0.5354 - val_loss: 1.1981 - val_acc: 0.5794\n",
      "Epoch 7/10\n",
      "50000/50000 [==============================] - 13s 261us/step - loss: 1.2439 - acc: 0.5537 - val_loss: 1.1469 - val_acc: 0.5927\n",
      "Epoch 8/10\n",
      "50000/50000 [==============================] - 13s 262us/step - loss: 1.1947 - acc: 0.5745 - val_loss: 1.1118 - val_acc: 0.6089\n",
      "Epoch 9/10\n",
      "50000/50000 [==============================] - 13s 261us/step - loss: 1.1489 - acc: 0.5908 - val_loss: 1.0804 - val_acc: 0.6191\n",
      "Epoch 10/10\n",
      "50000/50000 [==============================] - 13s 261us/step - loss: 1.1159 - acc: 0.6045 - val_loss: 1.0416 - val_acc: 0.6352\n"
     ]
    },
    {
     "data": {
      "text/plain": [
       "<keras.callbacks.History at 0x7f61aeca7198>"
      ]
     },
     "execution_count": 12,
     "metadata": {
      "tags": []
     },
     "output_type": "execute_result"
    }
   ],
   "source": [
    "model.fit(X_train / 255.0, to_categorical(Y_train),\n",
    "              batch_size=128,\n",
    "              shuffle=True,\n",
    "              epochs=10,\n",
    "              validation_data=(X_test / 255.0, to_categorical(Y_test)),\n",
    "              callbacks=[EarlyStopping(min_delta=0.001, patience=3)])"
   ]
  },
  {
   "cell_type": "code",
   "execution_count": 13,
   "metadata": {
    "colab": {
     "base_uri": "https://localhost:8080/",
     "height": 69
    },
    "colab_type": "code",
    "executionInfo": {
     "elapsed": 2668,
     "status": "ok",
     "timestamp": 1541609822049,
     "user": {
      "displayName": "евгений степанцов",
      "photoUrl": "",
      "userId": "14261473577949153296"
     },
     "user_tz": -180
    },
    "id": "jeXG0heREpEk",
    "outputId": "d51b0798-c37e-4f93-e45d-5be2bec5a097"
   },
   "outputs": [
    {
     "name": "stdout",
     "output_type": "stream",
     "text": [
      "10000/10000 [==============================] - 2s 187us/step\n",
      "Loss: 1.042\n",
      "Accuracy: 0.635\n"
     ]
    }
   ],
   "source": [
    "# Evaluate the model\n",
    "    scores = model.evaluate(X_test / 255.0, to_categorical(Y_test))\n",
    "\n",
    "    print('Loss: %.3f' % scores[0])\n",
    "    print('Accuracy: %.3f' % scores[1])"
   ]
  },
  {
   "cell_type": "code",
   "execution_count": 15,
   "metadata": {
    "colab": {
     "base_uri": "https://localhost:8080/",
     "height": 69
    },
    "colab_type": "code",
    "executionInfo": {
     "elapsed": 11448,
     "status": "ok",
     "timestamp": 1541609898724,
     "user": {
      "displayName": "евгений степанцов",
      "photoUrl": "",
      "userId": "14261473577949153296"
     },
     "user_tz": -180
    },
    "id": "edx_3yBZGwtE",
    "outputId": "3fbc4d51-097f-4369-a50b-b8b072713b58"
   },
   "outputs": [
    {
     "name": "stdout",
     "output_type": "stream",
     "text": [
      "50000/50000 [==============================] - 9s 188us/step\n",
      "Loss: 0.997\n",
      "Accuracy: 0.651\n"
     ]
    }
   ],
   "source": [
    "# Evaluate the model\n",
    "    scores = model.evaluate(X_train / 255.0, to_categorical(Y_train))\n",
    "\n",
    "    print('Loss: %.3f' % scores[0])\n",
    "    print('Accuracy: %.3f' % scores[1])"
   ]
  },
  {
   "cell_type": "code",
   "execution_count": 0,
   "metadata": {
    "colab": {},
    "colab_type": "code",
    "id": "AFCRjhMlG9OS"
   },
   "outputs": [],
   "source": []
  }
 ],
 "metadata": {
  "accelerator": "GPU",
  "colab": {
   "name": "CNN_cifar10.ipynb",
   "provenance": [],
   "version": "0.3.2"
  },
  "kernelspec": {
   "display_name": "Python 3",
   "language": "python",
   "name": "python3"
  },
  "language_info": {
   "codemirror_mode": {
    "name": "ipython",
    "version": 3
   },
   "file_extension": ".py",
   "mimetype": "text/x-python",
   "name": "python",
   "nbconvert_exporter": "python",
   "pygments_lexer": "ipython3",
   "version": "3.6.8"
  }
 },
 "nbformat": 4,
 "nbformat_minor": 1
}
